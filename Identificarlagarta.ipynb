{
 "cells": [
  {
   "cell_type": "raw",
   "metadata": {},
   "source": [
    "Trabalho proposto na Disciplina de Técnicas de Programação – Prof. Dr. Rodolfo Stoffel Antunes"
   ]
  },
  {
   "cell_type": "raw",
   "metadata": {},
   "source": [
    "Os códigos abaixo fazem o reconhecimento ou não de uma lagarta, para isso foi treinada uma pequena rede neural convolucional que faz o processo de identificação da lagarta "
   ]
  },
  {
   "cell_type": "code",
   "execution_count": 3,
   "metadata": {},
   "outputs": [],
   "source": [
    "#importação de algumas bibliotecas necessárias para carregar e  \n",
    "#tratar as imagens\n",
    "import cv2 #para leituras das imagens\n",
    "import os \n",
    "import numpy as np\n",
    "import matplotlib.pyplot as plt"
   ]
  },
  {
   "cell_type": "code",
   "execution_count": 4,
   "metadata": {},
   "outputs": [],
   "source": [
    "#img_laga = r'lagartan\\lagarta1.jpg'# leitura da imagem em forma de arrey\n",
    "#imglagarta = cv2.imread(img_laga)\n",
    "#imglagarta = cv2.resize(imglagarta,(100, 100))#modifica o tamanho da imagem\n",
    "#plt.imshow(imglagarta)\n",
    "#imglagarta.shape\n"
   ]
  },
  {
   "cell_type": "code",
   "execution_count": 5,
   "metadata": {},
   "outputs": [],
   "source": [
    "#\n",
    "#for i in range(1, 100):\n",
    "   # print(i)"
   ]
  },
  {
   "cell_type": "code",
   "execution_count": 6,
   "metadata": {},
   "outputs": [],
   "source": [
    "#imglagarta/255"
   ]
  },
  {
   "cell_type": "code",
   "execution_count": 7,
   "metadata": {},
   "outputs": [],
   "source": [
    "#os.listdir('lagartan') #lista as imagens do diretoria"
   ]
  },
  {
   "cell_type": "code",
   "execution_count": 8,
   "metadata": {},
   "outputs": [],
   "source": [
    "for nome_arq in os.listdir(r'lagartapositiva'):\n",
    "    imglagarta = r'lagartapositiva'+ str(nome_arq)\n",
    "    #print(imglagarta)"
   ]
  },
  {
   "cell_type": "code",
   "execution_count": 9,
   "metadata": {},
   "outputs": [],
   "source": [
    "for nome_arq in os.listdir('lagartapositiva'):\n",
    "    imglagarta = 'lagartapositiva', nome_arq\n",
    "   # print(imglagarta)"
   ]
  },
  {
   "cell_type": "code",
   "execution_count": 10,
   "metadata": {},
   "outputs": [],
   "source": [
    "for nome_arq in os.listdir('lagartapositiva'):\n",
    "    imglagarta = os.path.join('lagartapositiva', nome_arq)\n",
    "    #print(imglagarta)"
   ]
  },
  {
   "cell_type": "raw",
   "metadata": {},
   "source": [
    "#ler e tratar as imagens para serem utilizadas no treinamento da CNN"
   ]
  },
  {
   "cell_type": "code",
   "execution_count": 11,
   "metadata": {},
   "outputs": [
    {
     "data": {
      "text/plain": [
       "(100, 60, 60, 3)"
      ]
     },
     "execution_count": 11,
     "metadata": {},
     "output_type": "execute_result"
    },
    {
     "data": {
      "image/png": "[encoded data removed]",
      "text/plain": [
       "<Figure size 432x288 with 1 Axes>"
      ]
     },
     "metadata": {
      "needs_background": "light"
     },
     "output_type": "display_data"
    }
   ],
   "source": [
    "x = [] #carregar as imagens\n",
    "y = [] \n",
    "for nome_arq in os.listdir(r'lagartapositiva'):\n",
    "    imglagarta = os.path.join(r'lagartapositiva', nome_arq)\n",
    "    imglagarta = cv2.imread(imglagarta)\n",
    "    imglagarta = cv2.resize(imglagarta, (60, 60))\n",
    "    imglagarta = imglagarta/255\n",
    "    x.append(imglagarta)\n",
    "    y.append(1)\n",
    "    plt.imshow(imglagarta)\n",
    "for nome_arq in os.listdir(r'lagartanegativa'):\n",
    "    imglagarta = os.path.join(r'lagartanegativa', nome_arq)\n",
    "    imglagarta = cv2.imread(imglagarta)\n",
    "    imglagarta = cv2.resize(imglagarta, (60, 60))\n",
    "    imglagarta = imglagarta/255\n",
    "    x.append(imglagarta)\n",
    "    y.append(0)\n",
    "#transformando as listas em arrays\n",
    "x = np.array(x)\n",
    "y = np.array(y)\n",
    "x[y>0].shape\n"
   ]
  },
  {
   "cell_type": "raw",
   "metadata": {},
   "source": [
    "O diretorio com as fotos já foi listado, agora vamos começar a montar a rede neural para o treinamento.\n",
    "A rede será treinada para identificar se a praga encontrada na foto é ou não uma lagarta.\n",
    "A rede será treinada com cem fotos positivas e cem negativas"
   ]
  },
  {
   "cell_type": "code",
   "execution_count": 12,
   "metadata": {},
   "outputs": [],
   "source": [
    "#importar a bibliotecas para a rede neural convolucional\n",
    "from keras.models import Sequential\n",
    "from keras.layers import Conv2D\n",
    "from keras.layers import MaxPooling2D, Flatten, Dense"
   ]
  },
  {
   "cell_type": "code",
   "execution_count": 13,
   "metadata": {},
   "outputs": [],
   "source": [
    "#estrutura da rede baseada no keras\n",
    "modelo = Sequential() #construção da rede neural \n",
    "#o conv2d, camadas de convolução, chama as camadas, utilizamos o padrão de 64,\n",
    "#caracteristicas, features, para o array de 3 x 3.\n",
    "#Será usada a função retificadora ‘relu’ para ativação da camada \n",
    "#e o input_shape para Contar ao modelo o tamanho das imagens e o numero \n",
    "#de canais 3.\n",
    "modelo.add(Conv2D(64,(3,3), activation='relu', input_shape=(60,60,3)))\n",
    "#passando para o modelo o tamanho do Pool, maior numero de uma região, \n",
    "#optou-se 2 por 2, a fim de reduzir o tamanho das features, resultando na \n",
    "#primeira camada de convolução.\n",
    "modelo.add(MaxPooling2D((2,2)))\n",
    "#vamos adicionar mais duas camadas, uma de convolução e uma de MaxPooling\n",
    "#continuamos a usar relu como função de ativação\n",
    "modelo.add(Conv2D(64,(3,3), activation='relu'))\n",
    "modelo.add(MaxPooling2D((2,2)))\n",
    "#adicionamos mais uma camada, a flatten, achatamento, para converter o resultado,\n",
    "#anterior em um vetor\n",
    "#ou seja criou-se essa camada para fletar, achatar as entradas\n",
    "modelo.add(Flatten())\n",
    "#coneta as camadas.\n",
    "#adicionamos uma camada dense, 128, que irá receber todos os os Neurons da \n",
    "#layer anterior. usou-se a função de ativação retificadora relu   \n",
    "modelo.add(Dense(128, activation='relu'))\n",
    "#adicionamos 1 neuronio no final, ativamos a função sigmoid para devolver\n",
    "#a probabilidade de ser ou não ser o que busca-se. \n",
    "#Esse neuronio condensou todas as informações dos demais e devolve a probabilidade\n",
    "modelo.add(Dense(1, activation='sigmoid'))\n",
    "#a função sigmoide na camada de saída. O resultado deverá ser algo entre 0 e\n",
    "#1 com um threshold  padrão de 0.5\n",
    "#a saída tem 1 neurônio fazendo a predição da classe alvo \n",
    "#(é uma lagarta ou não).\n"
   ]
  },
  {
   "cell_type": "code",
   "execution_count": 14,
   "metadata": {},
   "outputs": [],
   "source": [
    "#o compile mostrar para o modelo da rede como irá funcionar\n",
    "#usamos algorítmo gradiente de descida ‘adam\" (modelo matemático) \n",
    "#para fazer as derivadas, Tratar os erros, diminuir os erros.\n",
    "#mostrar para o modelo qual a função de perda logarítmica que será \n",
    "#usada, neste caso binary_crossentropy e a metrica usada é a accuracy.\n",
    "modelo.compile(optimizer='adam', loss='binary_crossentropy', \n",
    "               metrics=['accuracy'])"
   ]
  },
  {
   "cell_type": "code",
   "execution_count": 92,
   "metadata": {},
   "outputs": [
    {
     "name": "stdout",
     "output_type": "stream",
     "text": [
      "Epoch 1/10\n",
      "7/7 [==============================] - 1s 113ms/step - loss: 0.9545 - accuracy: 0.5300\n",
      "Epoch 2/10\n",
      "7/7 [==============================] - 1s 96ms/step - loss: 0.6820 - accuracy: 0.5000\n",
      "Epoch 3/10\n",
      "7/7 [==============================] - 1s 94ms/step - loss: 0.6421 - accuracy: 0.6450\n",
      "Epoch 4/10\n",
      "7/7 [==============================] - 1s 97ms/step - loss: 0.5794 - accuracy: 0.7600\n",
      "Epoch 5/10\n",
      "7/7 [==============================] - 1s 97ms/step - loss: 0.6002 - accuracy: 0.6700\n",
      "Epoch 6/10\n",
      "7/7 [==============================] - 1s 95ms/step - loss: 0.4606 - accuracy: 0.8300\n",
      "Epoch 7/10\n",
      "7/7 [==============================] - 1s 96ms/step - loss: 0.3825 - accuracy: 0.8500\n",
      "Epoch 8/10\n",
      "7/7 [==============================] - 1s 100ms/step - loss: 0.4225 - accuracy: 0.8300\n",
      "Epoch 9/10\n",
      "7/7 [==============================] - 1s 99ms/step - loss: 0.2947 - accuracy: 0.9000\n",
      "Epoch 10/10\n",
      "7/7 [==============================] - 1s 97ms/step - loss: 0.2855 - accuracy: 0.9300\n"
     ]
    },
    {
     "data": {
      "text/plain": [
       "<tensorflow.python.keras.callbacks.History at 0x28993302d30>"
      ]
     },
     "execution_count": 92,
     "metadata": {},
     "output_type": "execute_result"
    }
   ],
   "source": [
    "# agora vamos treinar a rede para identificar uma lagarta ou não\n",
    "#fit para ajustar o numero de interações\n",
    "modelo.fit(x, y, epochs=10)\n",
    "#epochs são a quantidade de passos para percorrer\n",
    "#as imagens, aqui cada imagens foi percorrida 10 vezes  \n"
   ]
  },
  {
   "cell_type": "code",
   "execution_count": 167,
   "metadata": {},
   "outputs": [],
   "source": [
    "#Vamos carregar uma imagem para testar a rede \n",
    "imglagarta = cv2.imread('imagemteste7.jpg')\n",
    "imglagarta = cv2.resize(imglagarta, (60,60))\n",
    "imglagarta = imglagarta/255"
   ]
  },
  {
   "cell_type": "code",
   "execution_count": 168,
   "metadata": {},
   "outputs": [
    {
     "name": "stdout",
     "output_type": "stream",
     "text": [
      "[[0.04077956]]\n"
     ]
    }
   ],
   "source": [
    "# retorno da análise com a rede treinada\n",
    "resultado = modelo.predict(np.array([imglagarta]))\n",
    "print(resultado)"
   ]
  },
  {
   "cell_type": "code",
   "execution_count": 171,
   "metadata": {},
   "outputs": [],
   "source": [
    "#se o resultado for maior que 0,7... então teremos lagarta, menor igual que\n",
    "#0,7 não será considerada uma lagarta\n",
    "if resultado > 0.7:\n",
    "    prediction = 'lagarta'\n",
    "else:\n",
    "    prediction = 'falso'"
   ]
  },
  {
   "cell_type": "code",
   "execution_count": 172,
   "metadata": {},
   "outputs": [
    {
     "data": {
      "text/plain": [
       "'falso'"
      ]
     },
     "execution_count": 172,
     "metadata": {},
     "output_type": "execute_result"
    }
   ],
   "source": [
    "prediction"
   ]
  },
  {
   "cell_type": "code",
   "execution_count": null,
   "metadata": {},
   "outputs": [],
   "source": []
  },
  {
   "cell_type": "code",
   "execution_count": null,
   "metadata": {},
   "outputs": [],
   "source": []
  },
  {
   "cell_type": "code",
   "execution_count": null,
   "metadata": {},
   "outputs": [],
   "source": []
  }
 ],
 "metadata": {
  "kernelspec": {
   "display_name": "Python 3",
   "language": "python",
   "name": "python3"
  },
  "language_info": {
   "codemirror_mode": {
    "name": "ipython",
    "version": 3
   },
   "file_extension": ".py",
   "mimetype": "text/x-python",
   "name": "python",
   "nbconvert_exporter": "python",
   "pygments_lexer": "ipython3",
   "version": "3.8.3"
  }
 },
 "nbformat": 4,
 "nbformat_minor": 4
}
